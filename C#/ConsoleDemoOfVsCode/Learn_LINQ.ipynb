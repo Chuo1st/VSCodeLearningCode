{
 "cells": [
  {
   "cell_type": "code",
   "execution_count": 4,
   "metadata": {
    "dotnet_interactive": {
     "language": "csharp"
    },
    "polyglot_notebook": {
     "kernelName": "csharp"
    }
   },
   "outputs": [
    {
     "name": "stdout",
     "output_type": "stream",
     "text": [
      "Tm Tom\n",
      "Dck Dick\n",
      "Hrry Harry\n",
      "Alx Alex\n",
      "Flyd Floyd\n",
      "Jssy Jessy\n",
      "Bck Beck\n",
      "Gry Gary\n",
      "j joe\n",
      "Dick\n",
      "Harry\n",
      "Alex\n",
      "Floyd\n",
      "Jessy\n",
      "Beck\n",
      "Gary\n"
     ]
    }
   ],
   "source": [
    "string[] names = new string[]{\"Tom\",\"Dick\", \"Harry\", \"Alex\", \"Floyd\", \"Jessy\", \"Beck\", \"Gary\", \"joe\"};\n",
    "var res = names.Where((n)=>{return n.Length > 3;});\n",
    "// foreach(string name in res)\n",
    "//     Console.WriteLine(name);\n",
    "// Console.WriteLine();\n",
    "\n",
    "// Take<>\n",
    "// res = names.Where(n => n.Contains('a') || n.Contains('A')).OrderBy(n => n.Length).Select(n => n.ToLower()).Take(2);\n",
    "// foreach(string name in res)\n",
    "//     Console.WriteLine(name);    \n",
    "// Console.WriteLine();\n",
    "\n",
    "// Skip<>\n",
    "// res = names.Skip(3).Where(n => n.Length > 3);\n",
    "// foreach(string name in res)\n",
    "//     Console.WriteLine(name);\n",
    "// Console.WriteLine();\n",
    "\n",
    "// Reverse\n",
    "// res = names.Reverse();\n",
    "// foreach(string name in res)\n",
    "//     Console.WriteLine(name);    \n",
    "// Console.WriteLine();\n",
    "\n",
    "// 查询初等于序列中最短长度的所有元素\n",
    "// res = names.Where(n => n.Length == (names.OrderBy(n1 => n1.Length).Select(n2 => n2.Length).First())).OrderBy(n=>n).Select(n => n.ToUpper());\n",
    "// foreach(string name in res)\n",
    "//     Console.WriteLine(name);\n",
    "\n",
    "\n",
    "// 学习into, 输出所有去除首字母后的元音字母后长度大于2的名字\n",
    "/* res = names.Select(n => n.Replace(\"a\", \"\").Replace(\"e\", \"\").Replace(\"i\", \"\").Replace(\"o\", \"\").Replace(\"u\", \"\")).Where(n => n.Length > 2).OrderBy(n => n);*/\n",
    "\n",
    "\n",
    "// 对象初始化器的使用案例：希望执行查询后也能保留原始的序列，主要作用是可以吧查询元素映射为一个复杂类型，例如下面的Saver类，用于保存查询前后的string值\n",
    "class Saver{\n",
    "    public string newStr;\n",
    "    public string oldStr;\n",
    "}\n",
    "var savers = names.Select(n => new Saver()\n",
    "             {newStr = n.Replace(\"a\", \"\").Replace(\"e\", \"\").Replace(\"i\", \"\").Replace(\"o\", \"\").Replace(\"u\", \"\"), oldStr = n});\n",
    "\n",
    "foreach(var saver in savers)\n",
    "{\n",
    "    Console.WriteLine(saver.newStr + \" \" + saver.oldStr);\n",
    "}\n",
    "\n",
    "foreach(string name in res)\n",
    "    Console.WriteLine(name);\n"
   ]
  },
  {
   "cell_type": "code",
   "execution_count": null,
   "metadata": {
    "dotnet_interactive": {
     "language": "csharp"
    },
    "polyglot_notebook": {
     "kernelName": "csharp"
    }
   },
   "outputs": [],
   "source": [
    "// 模拟Enumerable的实现\n",
    "public class MyEnumerable{\n",
    "    // MyWhere\n",
    "    public static IEnumerable<T> Where<T>(IEnumerable<T> iEnumerable, Func<T, bool> func)\n",
    "    {\n",
    "        foreach(var item in iEnumerable)\n",
    "        {\n",
    "            if(func(item))\n",
    "            {\n",
    "                yield return item;\n",
    "            }\n",
    "        }\n",
    "    }\n",
    "\n",
    "    public static IEnumerable<TResult> Select<TSource, TResult>(IEnumerable<TSource> source, Func<TSource, TResult> func)\n",
    "    {\n",
    "        foreach(var item in source)\n",
    "            yield return func(item);\n",
    "    }\n",
    "\n",
    "    public static IEnumerable<TSource> Take<TSource>(IEnumerable<TSource> source, int count){\n",
    "        int i = 0;\n",
    "        foreach(var item in source)\n",
    "        {\n",
    "            if(i < count)\n",
    "            {\n",
    "                ++i;\n",
    "                yield return item;\n",
    "            }else break;\n",
    "        }\n",
    "    }\n",
    "\n",
    "    public static IEnumerable<TSource> Skip<TSource>(IEnumerable<TSource> source, int count)\n",
    "    {\n",
    "        int i = 0;\n",
    "        foreach(var item in source)\n",
    "        {\n",
    "            if (i < count)\n",
    "            {\n",
    "                ++i;\n",
    "                continue;\n",
    "            }\n",
    "            yield return item;\n",
    "        }\n",
    "    }\n",
    "\n",
    "    public static IEnumerable<TSource> Reverse<TSource>(IEnumerable<TSource> source){\n",
    "        Stack<TSource> stack = new Stack<TSource>();\n",
    "        foreach(var item in source)\n",
    "        {\n",
    "            stack.Push((item));\n",
    "        }\n",
    "        return stack;\n",
    "    }\n",
    "\n",
    "    public static TSource MAX<TSource>(IEnumerable<TSource> source)where TSource:IComparable\n",
    "    {\n",
    "        TSource res = default(TSource);\n",
    "        foreach(var item in source)\n",
    "        {\n",
    "            if (item.CompareTo(res) > 0){\n",
    "                res = item;\n",
    "            }\n",
    "        }\n",
    "        return res;\n",
    "    }\n",
    "\n",
    "    public static TSource Min<TSource>(IEnumerable<TSource> source)where TSource:IComparable\n",
    "    {\n",
    "        TSource res = default(TSource);\n",
    "        foreach(var item in source)\n",
    "        {\n",
    "            if(res.CompareTo(item) > 0)\n",
    "                res = item;\n",
    "        }\n",
    "        return res;\n",
    "    }\n",
    "}\n",
    "\n",
    "int[] nums = {1,5,44,3,5,6,8,9,22,11,23,55,66};\n",
    "IEnumerable<int> res = MyEnumerable.Where(nums, (i)=>{return i % 2 == 0;});\n",
    "res =  MyEnumerable.Take(nums, 3);\n",
    "res = MyEnumerable.Skip(nums, 3);\n",
    "res = MyEnumerable.Reverse(nums);\n",
    "foreach(var num in res)\n",
    "    Console.WriteLine(num);\n",
    "Console.WriteLine();\n",
    "Console.WriteLine(MyEnumerable.MAX(nums));\n"
   ]
  },
  {
   "cell_type": "code",
   "execution_count": null,
   "metadata": {
    "dotnet_interactive": {
     "language": "csharp"
    },
    "polyglot_notebook": {
     "kernelName": "csharp"
    }
   },
   "outputs": [],
   "source": []
  }
 ],
 "metadata": {
  "kernelspec": {
   "display_name": ".NET (C#)",
   "language": "C#",
   "name": ".net-csharp"
  },
  "language_info": {
   "name": "polyglot-notebook"
  },
  "polyglot_notebook": {
   "kernelInfo": {
    "defaultKernelName": "csharp",
    "items": [
     {
      "aliases": [],
      "languageName": "csharp",
      "name": "csharp"
     }
    ]
   }
  }
 },
 "nbformat": 4,
 "nbformat_minor": 2
}
